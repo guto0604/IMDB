{
 "cells": [
  {
   "cell_type": "code",
   "execution_count": 1,
   "id": "63c0de8a",
   "metadata": {},
   "outputs": [
    {
     "data": {
      "text/plain": [
       "7101"
      ]
     },
     "execution_count": 1,
     "metadata": {},
     "output_type": "execute_result"
    }
   ],
   "source": [
    "import pandas as pd\n",
    "from bs4 import BeautifulSoup\n",
    "import requests \n",
    "import numpy as np\n"
   ]
  },
  {
   "cell_type": "code",
   "execution_count": 2,
   "id": "6bef5290",
   "metadata": {},
   "outputs": [],
   "source": [
    "links_1_10 = [\n",
    "    'https://www.imdb.com/search/title/?title_type=feature&num_votes=10000,&countries=us&sort=user_rating,desc&ref_=adv_prv',]\n",
    "for i in range(51,7102,50):\n",
    "    links_1_10.append(\"https://www.imdb.com/search/title/?title_type=feature&num_votes=10000,&countries=us&sort=user_rating,desc&start=\"+str(i)+\"&ref_=adv_nxt\")"
   ]
  },
  {
   "cell_type": "code",
   "execution_count": 5,
   "id": "0d7b3ca6",
   "metadata": {},
   "outputs": [],
   "source": [
    "nomes = []\n",
    "anos = []\n",
    "duracao = []\n",
    "idades = []\n",
    "genero = []\n",
    "notas = []\n",
    "n_avaliacoes = []\n",
    "receita = []\n",
    "diretores = []\n",
    "atores = []\n",
    "\n",
    "for url in links_1_10:\n",
    "    response = requests.get(url)\n",
    "    soup = BeautifulSoup(response.content, 'html.parser')\n",
    "    filmes = soup.findAll('div',attrs={'class':'lister-item mode-advanced'})\n",
    "    \n",
    "    for f in filmes:\n",
    "\n",
    "        # Nome do Filme (Todos tem)\n",
    "        nome = f.h3.a.text\n",
    "        nomes.append(nome)\n",
    "\n",
    "        # Ano do Filme (Todos tem)\n",
    "        ano = f.h3.find('span',class_ = 'lister-item-year text-muted unbold').text.replace(\"(\",\"\").replace(\")\",\"\") # Ano\n",
    "        anos.append(ano)\n",
    "\n",
    "        # Duração (Todos tem)\n",
    "        dur = f.p.find('span',class_='runtime').text.split(' ')[0] \n",
    "        duracao.append(dur)\n",
    "\n",
    "        # Idade Mínima/Recomendada (Nem todos tem)\n",
    "        try:\n",
    "            idade = f.p.find('span',class_='certificate').text\n",
    "            idades.append(idade)\n",
    "        except:\n",
    "            idades.append(None)\n",
    "\n",
    "        # Genero (Todos tem)\n",
    "        gen = f.p.find('span',class_='genre').text.replace('\\n','').strip()\n",
    "        genero.append(gen)\n",
    "\n",
    "        # Nota (Todos tem)\n",
    "        nota = f.find('div',class_ = 'inline-block ratings-imdb-rating').strong.text\n",
    "        notas.append(nota)\n",
    "\n",
    "        # Quantidade de Avaliações\n",
    "        vot_rec = f.find_all('span', attrs = {'name': 'nv'})\n",
    "\n",
    "        votos = vot_rec[0].text.replace(',','')\n",
    "        n_avaliacoes.append(votos)\n",
    "\n",
    "        # Receita\n",
    "        try:\n",
    "            rec =vot_rec[1].text\n",
    "            receita.append(rec)\n",
    "        except:\n",
    "            receita.append(None)\n",
    "        # Diretor\n",
    "        info = f.find('p',class_ = '')\n",
    "        diretor = info.text.replace('\\n','').split('|')[0].replace('Director:','').strip()\n",
    "        diretores.append(diretor)\n",
    "        ats = []\n",
    "        try:\n",
    "            for i in info.text.replace('\\n','').split('|')[1].replace('Stars:','').split(','):\n",
    "                ats.append(i.strip())\n",
    "            atores.append(ats)\n",
    "        except:\n",
    "            atores.append('Falhou')    "
   ]
  },
  {
   "cell_type": "code",
   "execution_count": 7,
   "id": "59518190",
   "metadata": {},
   "outputs": [],
   "source": [
    "dados = pd.DataFrame({\"Filme\":nomes,\n",
    "\"Ano\":anos,\n",
    "\"Duracao\":duracao,\n",
    "\"Idade_recomendada\":idades,\n",
    "\"Genero\":genero,\n",
    "\"Notas\":notas,\n",
    "\"Quantidade_avaliações\":n_avaliacoes,\n",
    "\"Receita\":receita,\n",
    "\"Diretor\":diretores,\n",
    "\"Atores\": atores})"
   ]
  },
  {
   "cell_type": "code",
   "execution_count": 13,
   "id": "8d4f1c54",
   "metadata": {},
   "outputs": [],
   "source": [
    "dados.to_csv('C:/Users/guto0/Notebooks_Anaconda/Imdb_WebScrapping/dados.csv',index=False)"
   ]
  }
 ],
 "metadata": {
  "kernelspec": {
   "display_name": "Python 3",
   "language": "python",
   "name": "python3"
  },
  "language_info": {
   "codemirror_mode": {
    "name": "ipython",
    "version": 3
   },
   "file_extension": ".py",
   "mimetype": "text/x-python",
   "name": "python",
   "nbconvert_exporter": "python",
   "pygments_lexer": "ipython3",
   "version": "3.8.8"
  }
 },
 "nbformat": 4,
 "nbformat_minor": 5
}
